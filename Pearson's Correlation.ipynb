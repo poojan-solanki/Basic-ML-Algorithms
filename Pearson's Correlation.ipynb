{
 "cells": [
  {
   "cell_type": "code",
   "execution_count": 2,
   "id": "057743f1-39e4-4c98-a989-cf36bc17e886",
   "metadata": {},
   "outputs": [],
   "source": [
    "import numpy as np\n",
    "import pandas as pd\n",
    "from scipy.stats import boxcox\n",
    "from sklearn.preprocessing import StandardScaler\n",
    "import matplotlib.pyplot as plt"
   ]
  },
  {
   "cell_type": "code",
   "execution_count": 3,
   "id": "a7d3b0ed-31e6-4810-a084-9c85d40f21ea",
   "metadata": {},
   "outputs": [
    {
     "data": {
      "text/html": [
       "<div>\n",
       "<style scoped>\n",
       "    .dataframe tbody tr th:only-of-type {\n",
       "        vertical-align: middle;\n",
       "    }\n",
       "\n",
       "    .dataframe tbody tr th {\n",
       "        vertical-align: top;\n",
       "    }\n",
       "\n",
       "    .dataframe thead th {\n",
       "        text-align: right;\n",
       "    }\n",
       "</style>\n",
       "<table border=\"1\" class=\"dataframe\">\n",
       "  <thead>\n",
       "    <tr style=\"text-align: right;\">\n",
       "      <th></th>\n",
       "      <th>Unique ID</th>\n",
       "      <th>Indicator ID</th>\n",
       "      <th>Name</th>\n",
       "      <th>Measure</th>\n",
       "      <th>Measure Info</th>\n",
       "      <th>Geo Type Name</th>\n",
       "      <th>Geo Join ID</th>\n",
       "      <th>Geo Place Name</th>\n",
       "      <th>Time Period</th>\n",
       "      <th>Start_Date</th>\n",
       "      <th>Data Value</th>\n",
       "      <th>Message</th>\n",
       "    </tr>\n",
       "  </thead>\n",
       "  <tbody>\n",
       "    <tr>\n",
       "      <th>0</th>\n",
       "      <td>172653</td>\n",
       "      <td>375</td>\n",
       "      <td>Nitrogen dioxide (NO2)</td>\n",
       "      <td>Mean</td>\n",
       "      <td>ppb</td>\n",
       "      <td>UHF34</td>\n",
       "      <td>203</td>\n",
       "      <td>Bedford Stuyvesant - Crown Heights</td>\n",
       "      <td>Annual Average 2011</td>\n",
       "      <td>12/01/2010</td>\n",
       "      <td>25.30</td>\n",
       "      <td>NaN</td>\n",
       "    </tr>\n",
       "    <tr>\n",
       "      <th>1</th>\n",
       "      <td>172585</td>\n",
       "      <td>375</td>\n",
       "      <td>Nitrogen dioxide (NO2)</td>\n",
       "      <td>Mean</td>\n",
       "      <td>ppb</td>\n",
       "      <td>UHF34</td>\n",
       "      <td>203</td>\n",
       "      <td>Bedford Stuyvesant - Crown Heights</td>\n",
       "      <td>Annual Average 2009</td>\n",
       "      <td>12/01/2008</td>\n",
       "      <td>26.93</td>\n",
       "      <td>NaN</td>\n",
       "    </tr>\n",
       "    <tr>\n",
       "      <th>2</th>\n",
       "      <td>336637</td>\n",
       "      <td>375</td>\n",
       "      <td>Nitrogen dioxide (NO2)</td>\n",
       "      <td>Mean</td>\n",
       "      <td>ppb</td>\n",
       "      <td>UHF34</td>\n",
       "      <td>204</td>\n",
       "      <td>East New York</td>\n",
       "      <td>Annual Average 2015</td>\n",
       "      <td>01/01/2015</td>\n",
       "      <td>19.09</td>\n",
       "      <td>NaN</td>\n",
       "    </tr>\n",
       "    <tr>\n",
       "      <th>3</th>\n",
       "      <td>336622</td>\n",
       "      <td>375</td>\n",
       "      <td>Nitrogen dioxide (NO2)</td>\n",
       "      <td>Mean</td>\n",
       "      <td>ppb</td>\n",
       "      <td>UHF34</td>\n",
       "      <td>103</td>\n",
       "      <td>Fordham - Bronx Pk</td>\n",
       "      <td>Annual Average 2015</td>\n",
       "      <td>01/01/2015</td>\n",
       "      <td>19.76</td>\n",
       "      <td>NaN</td>\n",
       "    </tr>\n",
       "    <tr>\n",
       "      <th>4</th>\n",
       "      <td>172582</td>\n",
       "      <td>375</td>\n",
       "      <td>Nitrogen dioxide (NO2)</td>\n",
       "      <td>Mean</td>\n",
       "      <td>ppb</td>\n",
       "      <td>UHF34</td>\n",
       "      <td>104</td>\n",
       "      <td>Pelham - Throgs Neck</td>\n",
       "      <td>Annual Average 2009</td>\n",
       "      <td>12/01/2008</td>\n",
       "      <td>22.83</td>\n",
       "      <td>NaN</td>\n",
       "    </tr>\n",
       "  </tbody>\n",
       "</table>\n",
       "</div>"
      ],
      "text/plain": [
       "   Unique ID  Indicator ID                    Name Measure Measure Info  \\\n",
       "0     172653           375  Nitrogen dioxide (NO2)    Mean          ppb   \n",
       "1     172585           375  Nitrogen dioxide (NO2)    Mean          ppb   \n",
       "2     336637           375  Nitrogen dioxide (NO2)    Mean          ppb   \n",
       "3     336622           375  Nitrogen dioxide (NO2)    Mean          ppb   \n",
       "4     172582           375  Nitrogen dioxide (NO2)    Mean          ppb   \n",
       "\n",
       "  Geo Type Name  Geo Join ID                      Geo Place Name  \\\n",
       "0         UHF34          203  Bedford Stuyvesant - Crown Heights   \n",
       "1         UHF34          203  Bedford Stuyvesant - Crown Heights   \n",
       "2         UHF34          204                       East New York   \n",
       "3         UHF34          103                  Fordham - Bronx Pk   \n",
       "4         UHF34          104                Pelham - Throgs Neck   \n",
       "\n",
       "           Time Period  Start_Date  Data Value  Message  \n",
       "0  Annual Average 2011  12/01/2010       25.30      NaN  \n",
       "1  Annual Average 2009  12/01/2008       26.93      NaN  \n",
       "2  Annual Average 2015  01/01/2015       19.09      NaN  \n",
       "3  Annual Average 2015  01/01/2015       19.76      NaN  \n",
       "4  Annual Average 2009  12/01/2008       22.83      NaN  "
      ]
     },
     "execution_count": 3,
     "metadata": {},
     "output_type": "execute_result"
    }
   ],
   "source": [
    "df = pd.read_csv('Air_Quality.csv')\n",
    "df.head()"
   ]
  },
  {
   "cell_type": "code",
   "execution_count": 4,
   "id": "957498a9-2884-4bb9-9a9f-96e6471da3cc",
   "metadata": {
    "scrolled": true
   },
   "outputs": [],
   "source": [
    "data = df['Data Value']\n",
    "data = np.where(data==0, 0.00001,data)\n",
    "gas_names = df[\"Name\"]"
   ]
  },
  {
   "cell_type": "code",
   "execution_count": 11,
   "id": "50f462c8-dccf-4f7c-be51-4cb6a9d20276",
   "metadata": {},
   "outputs": [
    {
     "data": {
      "text/plain": [
       "array([4.95127932, 5.09141123, 4.34543699, ..., 2.61330315, 2.67824034,\n",
       "       6.60398776])"
      ]
     },
     "execution_count": 11,
     "metadata": {},
     "output_type": "execute_result"
    }
   ],
   "source": [
    "transformed_data, lambda_value = boxcox(data)\n",
    "transformed_data"
   ]
  },
  {
   "cell_type": "code",
   "execution_count": 56,
   "id": "c95e333f-8a23-40fd-a04d-c5ea45943123",
   "metadata": {},
   "outputs": [
    {
     "data": {
      "text/plain": [
       "(array([  30.,  121.,  691., 5365., 6432., 3104.,  269.,  137.,   62.,\n",
       "           7.]),\n",
       " array([-3.80238953, -2.01780225, -0.23321497,  1.55137231,  3.33595959,\n",
       "         5.12054687,  6.90513416,  8.68972144, 10.47430872, 12.258896  ,\n",
       "        14.04348328]),\n",
       " <BarContainer object of 10 artists>)"
      ]
     },
     "execution_count": 56,
     "metadata": {},
     "output_type": "execute_result"
    },
    {
     "data": {
      "image/png": "[encoded data removed]",
      "text/plain": [
       "<Figure size 640x480 with 1 Axes>"
      ]
     },
     "metadata": {},
     "output_type": "display_data"
    }
   ],
   "source": [
    "plt.hist(transformed_data)"
   ]
  },
  {
   "cell_type": "code",
   "execution_count": 19,
   "id": "3156b8d4-38ed-46a0-8c2d-b78ccef9323c",
   "metadata": {},
   "outputs": [
    {
     "data": {
      "text/plain": [
       "array(['Nitrogen dioxide (NO2)', 'Fine particles (PM 2.5)', 'Ozone (O3)',\n",
       "       'Asthma emergency department visits due to PM2.5',\n",
       "       'Annual vehicle miles traveled',\n",
       "       'Asthma hospitalizations due to Ozone',\n",
       "       'Respiratory hospitalizations due to PM2.5 (age 20+)',\n",
       "       'Boiler Emissions- Total SO2 Emissions',\n",
       "       'Cardiovascular hospitalizations due to PM2.5 (age 40+)',\n",
       "       'Boiler Emissions- Total PM2.5 Emissions',\n",
       "       'Boiler Emissions- Total NOx Emissions',\n",
       "       'Annual vehicle miles travelled (cars)',\n",
       "       'Annual vehicle miles travelled (trucks)',\n",
       "       'Cardiac and respiratory deaths due to Ozone',\n",
       "       'Asthma emergency departments visits due to Ozone',\n",
       "       'Outdoor Air Toxics - Formaldehyde',\n",
       "       'Outdoor Air Toxics - Benzene', 'Deaths due to PM2.5'],\n",
       "      dtype=object)"
      ]
     },
     "execution_count": 19,
     "metadata": {},
     "output_type": "execute_result"
    }
   ],
   "source": [
    "unique_gas_names = gas_names.unique()\n",
    "unique_gas_names"
   ]
  },
  {
   "cell_type": "code",
   "execution_count": 21,
   "id": "18d84216-fc0e-4dde-97de-7e1abdd83c4d",
   "metadata": {},
   "outputs": [
    {
     "data": {
      "text/plain": [
       "{'Nitrogen dioxide (NO2)': 1,\n",
       " 'Fine particles (PM 2.5)': 2,\n",
       " 'Ozone (O3)': 3,\n",
       " 'Asthma emergency department visits due to PM2.5': 4,\n",
       " 'Annual vehicle miles traveled': 5,\n",
       " 'Asthma hospitalizations due to Ozone': 6,\n",
       " 'Respiratory hospitalizations due to PM2.5 (age 20+)': 7,\n",
       " 'Boiler Emissions- Total SO2 Emissions': 8,\n",
       " 'Cardiovascular hospitalizations due to PM2.5 (age 40+)': 9,\n",
       " 'Boiler Emissions- Total PM2.5 Emissions': 10,\n",
       " 'Boiler Emissions- Total NOx Emissions': 11,\n",
       " 'Annual vehicle miles travelled (cars)': 12,\n",
       " 'Annual vehicle miles travelled (trucks)': 13,\n",
       " 'Cardiac and respiratory deaths due to Ozone': 14,\n",
       " 'Asthma emergency departments visits due to Ozone': 15,\n",
       " 'Outdoor Air Toxics - Formaldehyde': 16,\n",
       " 'Outdoor Air Toxics - Benzene': 17,\n",
       " 'Deaths due to PM2.5': 18}"
      ]
     },
     "execution_count": 21,
     "metadata": {},
     "output_type": "execute_result"
    }
   ],
   "source": [
    "gas_name_maping = {gas_name:i+1 for i, gas_name in enumerate(unique_gas_names)}\n",
    "gas_name_maping"
   ]
  },
  {
   "cell_type": "code",
   "execution_count": 22,
   "id": "dd1fddf1-b89f-40a6-b7ff-12d08394b525",
   "metadata": {},
   "outputs": [],
   "source": [
    "df['Gas_Maping'] = df['Name'].map(gas_name_maping)"
   ]
  },
  {
   "cell_type": "code",
   "execution_count": 25,
   "id": "dc5cee53-cb1a-41b7-9cff-698db7b85b93",
   "metadata": {},
   "outputs": [
    {
     "data": {
      "text/html": [
       "<div>\n",
       "<style scoped>\n",
       "    .dataframe tbody tr th:only-of-type {\n",
       "        vertical-align: middle;\n",
       "    }\n",
       "\n",
       "    .dataframe tbody tr th {\n",
       "        vertical-align: top;\n",
       "    }\n",
       "\n",
       "    .dataframe thead th {\n",
       "        text-align: right;\n",
       "    }\n",
       "</style>\n",
       "<table border=\"1\" class=\"dataframe\">\n",
       "  <thead>\n",
       "    <tr style=\"text-align: right;\">\n",
       "      <th></th>\n",
       "      <th>Unique ID</th>\n",
       "      <th>Indicator ID</th>\n",
       "      <th>Name</th>\n",
       "      <th>Measure</th>\n",
       "      <th>Measure Info</th>\n",
       "      <th>Geo Type Name</th>\n",
       "      <th>Geo Join ID</th>\n",
       "      <th>Geo Place Name</th>\n",
       "      <th>Time Period</th>\n",
       "      <th>Start_Date</th>\n",
       "      <th>Data Value</th>\n",
       "      <th>Message</th>\n",
       "      <th>Gas_Maping</th>\n",
       "    </tr>\n",
       "  </thead>\n",
       "  <tbody>\n",
       "    <tr>\n",
       "      <th>0</th>\n",
       "      <td>172653</td>\n",
       "      <td>375</td>\n",
       "      <td>Nitrogen dioxide (NO2)</td>\n",
       "      <td>Mean</td>\n",
       "      <td>ppb</td>\n",
       "      <td>UHF34</td>\n",
       "      <td>203</td>\n",
       "      <td>Bedford Stuyvesant - Crown Heights</td>\n",
       "      <td>Annual Average 2011</td>\n",
       "      <td>12/01/2010</td>\n",
       "      <td>25.30</td>\n",
       "      <td>NaN</td>\n",
       "      <td>1</td>\n",
       "    </tr>\n",
       "    <tr>\n",
       "      <th>1</th>\n",
       "      <td>172585</td>\n",
       "      <td>375</td>\n",
       "      <td>Nitrogen dioxide (NO2)</td>\n",
       "      <td>Mean</td>\n",
       "      <td>ppb</td>\n",
       "      <td>UHF34</td>\n",
       "      <td>203</td>\n",
       "      <td>Bedford Stuyvesant - Crown Heights</td>\n",
       "      <td>Annual Average 2009</td>\n",
       "      <td>12/01/2008</td>\n",
       "      <td>26.93</td>\n",
       "      <td>NaN</td>\n",
       "      <td>1</td>\n",
       "    </tr>\n",
       "    <tr>\n",
       "      <th>2</th>\n",
       "      <td>336637</td>\n",
       "      <td>375</td>\n",
       "      <td>Nitrogen dioxide (NO2)</td>\n",
       "      <td>Mean</td>\n",
       "      <td>ppb</td>\n",
       "      <td>UHF34</td>\n",
       "      <td>204</td>\n",
       "      <td>East New York</td>\n",
       "      <td>Annual Average 2015</td>\n",
       "      <td>01/01/2015</td>\n",
       "      <td>19.09</td>\n",
       "      <td>NaN</td>\n",
       "      <td>1</td>\n",
       "    </tr>\n",
       "    <tr>\n",
       "      <th>3</th>\n",
       "      <td>336622</td>\n",
       "      <td>375</td>\n",
       "      <td>Nitrogen dioxide (NO2)</td>\n",
       "      <td>Mean</td>\n",
       "      <td>ppb</td>\n",
       "      <td>UHF34</td>\n",
       "      <td>103</td>\n",
       "      <td>Fordham - Bronx Pk</td>\n",
       "      <td>Annual Average 2015</td>\n",
       "      <td>01/01/2015</td>\n",
       "      <td>19.76</td>\n",
       "      <td>NaN</td>\n",
       "      <td>1</td>\n",
       "    </tr>\n",
       "    <tr>\n",
       "      <th>4</th>\n",
       "      <td>172582</td>\n",
       "      <td>375</td>\n",
       "      <td>Nitrogen dioxide (NO2)</td>\n",
       "      <td>Mean</td>\n",
       "      <td>ppb</td>\n",
       "      <td>UHF34</td>\n",
       "      <td>104</td>\n",
       "      <td>Pelham - Throgs Neck</td>\n",
       "      <td>Annual Average 2009</td>\n",
       "      <td>12/01/2008</td>\n",
       "      <td>22.83</td>\n",
       "      <td>NaN</td>\n",
       "      <td>1</td>\n",
       "    </tr>\n",
       "    <tr>\n",
       "      <th>...</th>\n",
       "      <td>...</td>\n",
       "      <td>...</td>\n",
       "      <td>...</td>\n",
       "      <td>...</td>\n",
       "      <td>...</td>\n",
       "      <td>...</td>\n",
       "      <td>...</td>\n",
       "      <td>...</td>\n",
       "      <td>...</td>\n",
       "      <td>...</td>\n",
       "      <td>...</td>\n",
       "      <td>...</td>\n",
       "      <td>...</td>\n",
       "    </tr>\n",
       "    <tr>\n",
       "      <th>16213</th>\n",
       "      <td>130750</td>\n",
       "      <td>647</td>\n",
       "      <td>Outdoor Air Toxics - Formaldehyde</td>\n",
       "      <td>Annual average concentration</td>\n",
       "      <td>µg/m3</td>\n",
       "      <td>UHF42</td>\n",
       "      <td>211</td>\n",
       "      <td>Williamsburg - Bushwick</td>\n",
       "      <td>2005</td>\n",
       "      <td>01/01/2005</td>\n",
       "      <td>3.10</td>\n",
       "      <td>NaN</td>\n",
       "      <td>16</td>\n",
       "    </tr>\n",
       "    <tr>\n",
       "      <th>16214</th>\n",
       "      <td>130780</td>\n",
       "      <td>647</td>\n",
       "      <td>Outdoor Air Toxics - Formaldehyde</td>\n",
       "      <td>Annual average concentration</td>\n",
       "      <td>µg/m3</td>\n",
       "      <td>Borough</td>\n",
       "      <td>5</td>\n",
       "      <td>Staten Island</td>\n",
       "      <td>2005</td>\n",
       "      <td>01/01/2005</td>\n",
       "      <td>2.30</td>\n",
       "      <td>NaN</td>\n",
       "      <td>16</td>\n",
       "    </tr>\n",
       "    <tr>\n",
       "      <th>16215</th>\n",
       "      <td>131020</td>\n",
       "      <td>652</td>\n",
       "      <td>Cardiac and respiratory deaths due to Ozone</td>\n",
       "      <td>Estimated annual rate</td>\n",
       "      <td>per 100,000</td>\n",
       "      <td>UHF42</td>\n",
       "      <td>504</td>\n",
       "      <td>South Beach - Tottenville</td>\n",
       "      <td>2005-2007</td>\n",
       "      <td>01/01/2005</td>\n",
       "      <td>7.50</td>\n",
       "      <td>NaN</td>\n",
       "      <td>14</td>\n",
       "    </tr>\n",
       "    <tr>\n",
       "      <th>16216</th>\n",
       "      <td>131026</td>\n",
       "      <td>652</td>\n",
       "      <td>Cardiac and respiratory deaths due to Ozone</td>\n",
       "      <td>Estimated annual rate</td>\n",
       "      <td>per 100,000</td>\n",
       "      <td>Borough</td>\n",
       "      <td>5</td>\n",
       "      <td>Staten Island</td>\n",
       "      <td>2005-2007</td>\n",
       "      <td>01/01/2005</td>\n",
       "      <td>7.80</td>\n",
       "      <td>NaN</td>\n",
       "      <td>14</td>\n",
       "    </tr>\n",
       "    <tr>\n",
       "      <th>16217</th>\n",
       "      <td>325247</td>\n",
       "      <td>643</td>\n",
       "      <td>Annual vehicle miles traveled</td>\n",
       "      <td>million miles</td>\n",
       "      <td>per km2</td>\n",
       "      <td>CD</td>\n",
       "      <td>107</td>\n",
       "      <td>Upper West Side (CD7)</td>\n",
       "      <td>2016</td>\n",
       "      <td>01/01/2016</td>\n",
       "      <td>50.00</td>\n",
       "      <td>NaN</td>\n",
       "      <td>5</td>\n",
       "    </tr>\n",
       "  </tbody>\n",
       "</table>\n",
       "<p>16218 rows × 13 columns</p>\n",
       "</div>"
      ],
      "text/plain": [
       "       Unique ID  Indicator ID                                         Name  \\\n",
       "0         172653           375                       Nitrogen dioxide (NO2)   \n",
       "1         172585           375                       Nitrogen dioxide (NO2)   \n",
       "2         336637           375                       Nitrogen dioxide (NO2)   \n",
       "3         336622           375                       Nitrogen dioxide (NO2)   \n",
       "4         172582           375                       Nitrogen dioxide (NO2)   \n",
       "...          ...           ...                                          ...   \n",
       "16213     130750           647            Outdoor Air Toxics - Formaldehyde   \n",
       "16214     130780           647            Outdoor Air Toxics - Formaldehyde   \n",
       "16215     131020           652  Cardiac and respiratory deaths due to Ozone   \n",
       "16216     131026           652  Cardiac and respiratory deaths due to Ozone   \n",
       "16217     325247           643                Annual vehicle miles traveled   \n",
       "\n",
       "                            Measure Measure Info Geo Type Name  Geo Join ID  \\\n",
       "0                              Mean          ppb         UHF34          203   \n",
       "1                              Mean          ppb         UHF34          203   \n",
       "2                              Mean          ppb         UHF34          204   \n",
       "3                              Mean          ppb         UHF34          103   \n",
       "4                              Mean          ppb         UHF34          104   \n",
       "...                             ...          ...           ...          ...   \n",
       "16213  Annual average concentration        µg/m3         UHF42          211   \n",
       "16214  Annual average concentration        µg/m3       Borough            5   \n",
       "16215         Estimated annual rate  per 100,000         UHF42          504   \n",
       "16216         Estimated annual rate  per 100,000       Borough            5   \n",
       "16217                 million miles      per km2            CD          107   \n",
       "\n",
       "                           Geo Place Name          Time Period  Start_Date  \\\n",
       "0      Bedford Stuyvesant - Crown Heights  Annual Average 2011  12/01/2010   \n",
       "1      Bedford Stuyvesant - Crown Heights  Annual Average 2009  12/01/2008   \n",
       "2                           East New York  Annual Average 2015  01/01/2015   \n",
       "3                      Fordham - Bronx Pk  Annual Average 2015  01/01/2015   \n",
       "4                    Pelham - Throgs Neck  Annual Average 2009  12/01/2008   \n",
       "...                                   ...                  ...         ...   \n",
       "16213             Williamsburg - Bushwick                 2005  01/01/2005   \n",
       "16214                       Staten Island                 2005  01/01/2005   \n",
       "16215           South Beach - Tottenville            2005-2007  01/01/2005   \n",
       "16216                       Staten Island            2005-2007  01/01/2005   \n",
       "16217               Upper West Side (CD7)                 2016  01/01/2016   \n",
       "\n",
       "       Data Value  Message  Gas_Maping  \n",
       "0           25.30      NaN           1  \n",
       "1           26.93      NaN           1  \n",
       "2           19.09      NaN           1  \n",
       "3           19.76      NaN           1  \n",
       "4           22.83      NaN           1  \n",
       "...           ...      ...         ...  \n",
       "16213        3.10      NaN          16  \n",
       "16214        2.30      NaN          16  \n",
       "16215        7.50      NaN          14  \n",
       "16216        7.80      NaN          14  \n",
       "16217       50.00      NaN           5  \n",
       "\n",
       "[16218 rows x 13 columns]"
      ]
     },
     "execution_count": 25,
     "metadata": {},
     "output_type": "execute_result"
    }
   ],
   "source": [
    "df"
   ]
  },
  {
   "cell_type": "markdown",
   "id": "ba539054-26f4-46d0-bf12-d4fa54080941",
   "metadata": {},
   "source": [
    "#### From pearsonr()"
   ]
  },
  {
   "cell_type": "code",
   "execution_count": 26,
   "id": "67c445a8-9dc1-4ec9-a677-fec171d66d14",
   "metadata": {},
   "outputs": [],
   "source": [
    "from scipy.stats import pearsonr"
   ]
  },
  {
   "cell_type": "code",
   "execution_count": 27,
   "id": "3b5f7dce-b1fa-4d66-ae67-9e02c7d5803a",
   "metadata": {},
   "outputs": [
    {
     "name": "stdout",
     "output_type": "stream",
     "text": [
      "Spearman's rank correlation coefficient: 0.17329641844400562\n"
     ]
    }
   ],
   "source": [
    "pearson_coeeficient, p_value = pearsonr(df['Gas_Maping'], df['Data Value'])\n",
    "print(\"Spearman's rank correlation coefficient:\", pearson_coeeficient)"
   ]
  },
  {
   "cell_type": "markdown",
   "id": "9106afea-6c66-48b4-b30c-1a6c5ee091e2",
   "metadata": {},
   "source": [
    "### Calculating Manually"
   ]
  },
  {
   "cell_type": "markdown",
   "id": "de29e14c-5fca-4e1c-b818-98991615a9fa",
   "metadata": {},
   "source": [
    "1. We need (Gas_Maping)<sup>2</sup> (x)\n",
    "2. We need (Data Value)<sup>2</sup> (y)\n",
    "3. we need Gas_Maping * Data Value  (xy)\n",
    "4. n is total number of obs"
   ]
  },
  {
   "cell_type": "markdown",
   "id": "845acb9f-788f-415e-93cf-6af831b7a306",
   "metadata": {},
   "source": [
    "## Pearson's Co-relation\n",
    "## $ r = \\frac {n (\\sum xy ) - (\\sum x.\\sum y)} {\\sqrt {[n.\\sum x^2 - (\\sum x)^2] \\times [n.\\sum y^2 - (\\sum y)^2]}} $"
   ]
  },
  {
   "cell_type": "markdown",
   "id": "b5e9c2d9-f6e3-45b2-873e-11245c027f36",
   "metadata": {},
   "source": [
    "- x = Gas_Maping\n",
    "- y = Data Value \t"
   ]
  },
  {
   "cell_type": "code",
   "execution_count": 33,
   "id": "08c9c229-7626-4767-8a12-d9c19dcd6ebf",
   "metadata": {
    "scrolled": true
   },
   "outputs": [
    {
     "data": {
      "text/plain": [
       "16218"
      ]
     },
     "execution_count": 33,
     "metadata": {},
     "output_type": "execute_result"
    }
   ],
   "source": [
    "n = df['Name'].count()\n",
    "n"
   ]
  },
  {
   "cell_type": "code",
   "execution_count": 35,
   "id": "1d204cb8-89e0-470f-9b05-b3e997407d72",
   "metadata": {},
   "outputs": [
    {
     "data": {
      "text/plain": [
       "57048"
      ]
     },
     "execution_count": 35,
     "metadata": {},
     "output_type": "execute_result"
    }
   ],
   "source": [
    "sigma_x = df['Gas_Maping'].sum()\n",
    "sigma_x"
   ]
  },
  {
   "cell_type": "code",
   "execution_count": 36,
   "id": "06cfd86b-2a40-4262-bc83-8ec2ec656662",
   "metadata": {},
   "outputs": [
    {
     "data": {
      "text/plain": [
       "323969.42"
      ]
     },
     "execution_count": 36,
     "metadata": {},
     "output_type": "execute_result"
    }
   ],
   "source": [
    "sigma_y = df['Data Value'].sum()\n",
    "sigma_y"
   ]
  },
  {
   "cell_type": "code",
   "execution_count": 45,
   "id": "7198b6f7-40e8-44f7-821f-d9572b90c70c",
   "metadata": {},
   "outputs": [
    {
     "data": {
      "text/plain": [
       "485786"
      ]
     },
     "execution_count": 45,
     "metadata": {},
     "output_type": "execute_result"
    }
   ],
   "source": [
    "x_square = df['Gas_Maping'].apply(lambda num: num**2) # Will store squares in x_square\n",
    "sigma_x_square = x_square.sum() # Will sum all squared values\n",
    "sigma_x_square"
   ]
  },
  {
   "cell_type": "code",
   "execution_count": 46,
   "id": "2d425fc3-52a4-4178-9d81-53bff5c8c451",
   "metadata": {},
   "outputs": [
    {
     "data": {
      "text/plain": [
       "13844524.774"
      ]
     },
     "execution_count": 46,
     "metadata": {},
     "output_type": "execute_result"
    }
   ],
   "source": [
    "y_square = df['Data Value'].apply(lambda num: num**2) # Will store squares in y_square\n",
    "sigma_y_square = y_square.sum() # Will sum all squared values\n",
    "sigma_y_square"
   ]
  },
  {
   "cell_type": "code",
   "execution_count": 52,
   "id": "3cd28aba-a70c-4b9c-a295-b532ac193247",
   "metadata": {},
   "outputs": [
    {
     "data": {
      "text/plain": [
       "1390844.3399999999"
      ]
     },
     "execution_count": 52,
     "metadata": {},
     "output_type": "execute_result"
    }
   ],
   "source": [
    "xy = df['Data Value'] * df['Gas_Maping']\n",
    "sigma_xy = xy.sum()\n",
    "sigma_xy"
   ]
  },
  {
   "cell_type": "markdown",
   "id": "1453b228-831f-4e8e-be81-7eac2f778e0c",
   "metadata": {},
   "source": [
    "#### Applying formula"
   ]
  },
  {
   "cell_type": "code",
   "execution_count": 53,
   "id": "ba383c22-6693-4da6-b593-44050dac9558",
   "metadata": {},
   "outputs": [
    {
     "data": {
      "text/plain": [
       "4074906033.959999"
      ]
     },
     "execution_count": 53,
     "metadata": {},
     "output_type": "execute_result"
    }
   ],
   "source": [
    "numerator = (n*(sigma_xy)) - (sigma_x*sigma_y)\n",
    "numerator"
   ]
  },
  {
   "cell_type": "code",
   "execution_count": 54,
   "id": "8d308b8c-c475-439d-9060-15d1d3bbcbc5",
   "metadata": {},
   "outputs": [
    {
     "data": {
      "text/plain": [
       "23514081078.811333"
      ]
     },
     "execution_count": 54,
     "metadata": {},
     "output_type": "execute_result"
    }
   ],
   "source": [
    "denominator = (((n*sigma_x_square) - ((sigma_x)**2)) * ((n*sigma_y_square) - ((sigma_y)**2)))**(1/2)\n",
    "denominator"
   ]
  },
  {
   "cell_type": "code",
   "execution_count": 56,
   "id": "4ed95c68-5e0d-443f-bd12-51d54bee5372",
   "metadata": {},
   "outputs": [
    {
     "data": {
      "text/plain": [
       "0.17329641844400712"
      ]
     },
     "execution_count": 56,
     "metadata": {},
     "output_type": "execute_result"
    }
   ],
   "source": [
    "r = numerator/denominator\n",
    "r"
   ]
  },
  {
   "cell_type": "code",
   "execution_count": null,
   "id": "bafcc829-a1a4-435b-9b46-7dcc36fb460f",
   "metadata": {},
   "outputs": [],
   "source": []
  },
  {
   "cell_type": "code",
   "execution_count": 60,
   "id": "3196a33a-4faa-4cbd-a753-c3c2d7cd735e",
   "metadata": {},
   "outputs": [
    {
     "name": "stdout",
     "output_type": "stream",
     "text": [
      "Using pearsonr(): 0.17329641844400562\n",
      "Calculating Manually: 0.17329641844400712:\n"
     ]
    }
   ],
   "source": [
    "print(\"Using pearsonr(): {}\\nCalculating Manually: {}:\".format(pearson_coeeficient, r))"
   ]
  },
  {
   "cell_type": "code",
   "execution_count": null,
   "id": "cb53a575-7cae-4197-bc83-1f68e310380a",
   "metadata": {},
   "outputs": [],
   "source": []
  }
 ],
 "metadata": {
  "kernelspec": {
   "display_name": "Python 3 (ipykernel)",
   "language": "python",
   "name": "python3"
  },
  "language_info": {
   "codemirror_mode": {
    "name": "ipython",
    "version": 3
   },
   "file_extension": ".py",
   "mimetype": "text/x-python",
   "name": "python",
   "nbconvert_exporter": "python",
   "pygments_lexer": "ipython3",
   "version": "3.12.1"
  }
 },
 "nbformat": 4,
 "nbformat_minor": 5
}
