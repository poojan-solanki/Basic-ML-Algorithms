{
 "cells": [
  {
   "cell_type": "markdown",
   "id": "13937c03-c528-4959-b9c5-bc2569ac6487",
   "metadata": {},
   "source": [
    "## Tukey Outlier\n",
    "##### Name: Poojan Solanki\n",
    "##### Enrollent Number: 21C21148"
   ]
  },
  {
   "cell_type": "code",
   "execution_count": 1,
   "id": "7afecfac-295c-4bc9-b0f4-2f89be779997",
   "metadata": {},
   "outputs": [],
   "source": [
    "import numpy as np\n",
    "import matplotlib.pyplot as plt\n",
    "import seaborn as sns"
   ]
  },
  {
   "cell_type": "code",
   "execution_count": 2,
   "id": "fc6c0e75-da07-42b7-bba6-07c82623e58e",
   "metadata": {},
   "outputs": [],
   "source": [
    "dataset = [54,44,42,46,87,48,56,52,]"
   ]
  },
  {
   "cell_type": "code",
   "execution_count": 3,
   "id": "e1ab2a69-bbe5-4b97-b137-e69405fb4328",
   "metadata": {},
   "outputs": [],
   "source": [
    "outliers = []"
   ]
  },
  {
   "cell_type": "code",
   "execution_count": 4,
   "id": "21a7a398-25c3-4176-95e7-d2ab7015e6fb",
   "metadata": {},
   "outputs": [
    {
     "data": {
      "text/plain": [
       "[42, 44, 46, 48, 52, 54, 56, 87]"
      ]
     },
     "execution_count": 4,
     "metadata": {},
     "output_type": "execute_result"
    }
   ],
   "source": [
    "dataset = sorted(dataset)\n",
    "dataset"
   ]
  },
  {
   "cell_type": "code",
   "execution_count": 5,
   "id": "b77ccb78-12bd-4716-aa1a-70473ce7c142",
   "metadata": {},
   "outputs": [
    {
     "name": "stdout",
     "output_type": "stream",
     "text": [
      "q1 = 45.0\n",
      "q3 = 55.0\n"
     ]
    },
    {
     "data": {
      "text/plain": [
       "(45.0, 55.0)"
      ]
     },
     "execution_count": 5,
     "metadata": {},
     "output_type": "execute_result"
    }
   ],
   "source": [
    "q1, q3 = np.percentile(dataset, [25,75], interpolation=\"midpoint\") \n",
    "# interppolaation will do (x + y) / 2 for the first 25% and last 75% of the dataset\n",
    "print(\"q1 =\",q1)\n",
    "print(\"q3 =\",q3)\n",
    "\n",
    "\n",
    "# alternative code\n",
    "q1_alternative = np.median(dataset[:4])\n",
    "q2_alternative = np.median(dataset[4:])\n",
    "q1_alternative, q2_alternative"
   ]
  },
  {
   "cell_type": "code",
   "execution_count": 6,
   "id": "5d3e749e-1676-440d-97cd-56720f9d43fa",
   "metadata": {},
   "outputs": [
    {
     "data": {
      "text/plain": [
       "10.0"
      ]
     },
     "execution_count": 6,
     "metadata": {},
     "output_type": "execute_result"
    }
   ],
   "source": [
    "IQR = abs(q1-q3)\n",
    "IQR"
   ]
  },
  {
   "cell_type": "code",
   "execution_count": 7,
   "id": "812967cd-6441-4c68-be5c-65362f71814c",
   "metadata": {},
   "outputs": [
    {
     "data": {
      "text/plain": [
       "30.0"
      ]
     },
     "execution_count": 7,
     "metadata": {},
     "output_type": "execute_result"
    }
   ],
   "source": [
    "lower_bound = q1 - (1.5 * IQR)\n",
    "lower_bound"
   ]
  },
  {
   "cell_type": "code",
   "execution_count": 8,
   "id": "02aa1719-9165-47a8-b615-2c2ac51a7b8d",
   "metadata": {},
   "outputs": [
    {
     "data": {
      "text/plain": [
       "70.0"
      ]
     },
     "execution_count": 8,
     "metadata": {},
     "output_type": "execute_result"
    }
   ],
   "source": [
    "upper_bound = q3 + (1.5 * IQR)\n",
    "upper_bound"
   ]
  },
  {
   "cell_type": "code",
   "execution_count": 9,
   "id": "1b359253-dfa7-4cef-a6ff-2d7d1deae5ce",
   "metadata": {},
   "outputs": [],
   "source": [
    "for i in dataset:\n",
    "    if i < lower_bound or i >upper_bound:\n",
    "        outliers.append(i)"
   ]
  },
  {
   "cell_type": "markdown",
   "id": "8c82f274-f38f-411f-8e3b-faff246cf5c6",
   "metadata": {},
   "source": [
    "#### Output"
   ]
  },
  {
   "cell_type": "code",
   "execution_count": 10,
   "id": "5145c707-0b51-4854-8411-e47f3b5878b3",
   "metadata": {},
   "outputs": [
    {
     "data": {
      "text/plain": [
       "[87]"
      ]
     },
     "execution_count": 10,
     "metadata": {},
     "output_type": "execute_result"
    }
   ],
   "source": [
    "outliers"
   ]
  },
  {
   "cell_type": "code",
   "execution_count": 11,
   "id": "59dfb18a-9ceb-4eff-84b1-eb8ff25cbcda",
   "metadata": {},
   "outputs": [
    {
     "data": {
      "text/plain": [
       "<Axes: >"
      ]
     },
     "execution_count": 11,
     "metadata": {},
     "output_type": "execute_result"
    },
    {
     "data": {
      "image/png": "[encoded data removed]",
      "text/plain": [
       "<Figure size 640x480 with 1 Axes>"
      ]
     },
     "metadata": {},
     "output_type": "display_data"
    }
   ],
   "source": [
    "sns.boxplot(dataset)"
   ]
  },
  {
   "cell_type": "code",
   "execution_count": null,
   "id": "d82bea58-7964-45a9-87eb-9c8923bf7438",
   "metadata": {},
   "outputs": [],
   "source": []
  }
 ],
 "metadata": {
  "kernelspec": {
   "display_name": "Python 3 (ipykernel)",
   "language": "python",
   "name": "python3"
  },
  "language_info": {
   "codemirror_mode": {
    "name": "ipython",
    "version": 3
   },
   "file_extension": ".py",
   "mimetype": "text/x-python",
   "name": "python",
   "nbconvert_exporter": "python",
   "pygments_lexer": "ipython3",
   "version": "3.12.1"
  }
 },
 "nbformat": 4,
 "nbformat_minor": 5
}
